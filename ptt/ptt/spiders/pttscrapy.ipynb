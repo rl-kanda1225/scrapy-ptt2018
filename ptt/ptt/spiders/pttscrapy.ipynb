{
 "cells": [
  {
   "cell_type": "code",
   "execution_count": 1,
   "metadata": {
    "collapsed": true
   },
   "outputs": [],
   "source": [
    "import scrapy\n",
    "\n",
    "class PTTSpider(scrapy.Spider):\n",
    "    name = 'ptt'\n",
    "    allowed_domains = ['ptt.cc']\n",
    "    start_urls = ('https://www.ptt.cc/bbs/Gossiping/index.html', )\n",
    "\n",
    "    def parse(self, response):\n",
    "        filename = response.url.split('/')[-2] + '.html'\n",
    "        with open(filename, 'wb') as f:\n",
    "            f.write(response.body)"
   ]
  }
 ],
 "metadata": {
  "kernelspec": {
   "display_name": "Python 3",
   "language": "python",
   "name": "python3"
  },
  "language_info": {
   "codemirror_mode": {
    "name": "ipython",
    "version": 3
   },
   "file_extension": ".py",
   "mimetype": "text/x-python",
   "name": "python",
   "nbconvert_exporter": "python",
   "pygments_lexer": "ipython3",
   "version": "3.6.2"
  }
 },
 "nbformat": 4,
 "nbformat_minor": 2
}
